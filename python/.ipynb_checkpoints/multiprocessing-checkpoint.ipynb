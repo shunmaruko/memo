{
 "cells": [
  {
   "cell_type": "markdown",
   "metadata": {},
   "source": [
    "# multiprocessingによる並列処理"
   ]
  },
  {
   "cell_type": "markdown",
   "metadata": {},
   "source": [
    "ハードウェアの確認\n",
    "* コア数の確認 \n",
    "```\n",
    "sysctl -n hw.physicalcpu_max \n",
    ">> 2\n",
    "```\n",
    "* スレッド数の確認\n",
    "```\n",
    "sysctl -n hw.logicalcpu_max\n",
    ">> 4 \n",
    "```\n",
    "手元のPCでは2コア4スレッド"
   ]
  },
  {
   "cell_type": "code",
   "execution_count": 1,
   "metadata": {},
   "outputs": [],
   "source": [
    "import multiprocessing as mp\n",
    "import os\n",
    "import numpy\n",
    "from multiprocessing import Pool, Process\n",
    "import time"
   ]
  },
  {
   "cell_type": "markdown",
   "metadata": {},
   "source": [
    "## Poolを使ってみる\n",
    "Poolはサブプロセス群に入力データを分配 (データ並列) して関数を並列実行するのに便利\n",
    "Retun簡単でいい。\n",
    "これがベストプラクティスぽい\n",
    "\n",
    "実行方法の違いを確認"
   ]
  },
  {
   "cell_type": "code",
   "execution_count": 2,
   "metadata": {
    "scrolled": true
   },
   "outputs": [
    {
     "name": "stdout",
     "output_type": "stream",
     "text": [
      "4\n",
      "input 0\n",
      "return 0\n",
      "input 1\n",
      "return 1\n",
      "input 2\n",
      "return 2\n",
      "input 3\n",
      "return 3\n",
      "input 4\n",
      "return 4\n",
      "input 5\n",
      "return 5\n",
      "input 6\n",
      "return 6\n",
      "input 7\n",
      "return 7\n",
      "elapsed time: 0.007734060287475586 \n",
      "input 0\n",
      "input 1\n",
      "return 0\n",
      "return 1\n",
      "input 2\n",
      "return 2\n",
      "input 3\n",
      "return 3\n",
      "input 4\n",
      "return 4\n",
      "input 5\n",
      "input 6\n",
      "return 5\n",
      "return 6\n",
      "input 7\n",
      "return 7\n",
      "elapsed time: 0.10392498970031738 \n"
     ]
    }
   ],
   "source": [
    "print(os.cpu_count())\n",
    "\n",
    "def f(x):\n",
    "    print('input', x)\n",
    "    print('return', x)\n",
    "    return x*x\n",
    "    \n",
    "if __name__ == '__main__':\n",
    "    #1コア1スレッドでの実行\n",
    "    start = time.time()\n",
    "    for i in range(8):\n",
    "        _ = f(i)\n",
    "    end = time.time()\n",
    "    print(\"elapsed time: {} \".format(end - start))\n",
    "    #4スレッドでの実行\n",
    "    with Pool(2) as p: #デフォルトでos.cpu_count()と同じ数のプロセス\n",
    "        start = time.time()\n",
    "        p.map(f, list(range(8)))\n",
    "        end = time.time()\n",
    "        print(\"elapsed time: {} \".format(end - start))"
   ]
  },
  {
   "cell_type": "markdown",
   "metadata": {},
   "source": [
    "## Processを使ってみる\n",
    "Processにより各プロセスを制御することができる\n",
    "parent process id：この実行ファイルのid"
   ]
  },
  {
   "cell_type": "code",
   "execution_count": 3,
   "metadata": {
    "scrolled": true
   },
   "outputs": [
    {
     "name": "stdout",
     "output_type": "stream",
     "text": [
      "[0, 1, 4, 9, 16, 25, 36, 49]\n",
      "0.00019478797912597656\n",
      "この実行ファイルのprocess ID: 7011\n",
      "[0, 1]\n",
      "[4, 9]\n",
      "[16, 25]\n",
      "[36, 49]\n",
      "0.07054710388183594\n"
     ]
    }
   ],
   "source": [
    "def info(title):\n",
    "    #print(title)\n",
    "    #print('module name:', __name__)\n",
    "    print('parent process:', os.getppid())\n",
    "    print('process id:', os.getpid())\n",
    "\n",
    "def f(name):\n",
    "    info('function f')\n",
    "    print('hello', name)\n",
    "    return name\n",
    "\n",
    "def cal(x):\n",
    "    result = []\n",
    "    for i in x:\n",
    "        result.append(i*i)\n",
    "    print(result)\n",
    "    return result\n",
    "if __name__ == '__main__':\n",
    "    X = list(range(8))\n",
    "    #info('main line')\n",
    "    #print('main')\n",
    "    start = time.time()\n",
    "    cal(X)\n",
    "    end = time.time()\n",
    "    print(end - start)\n",
    "    print('この実行ファイルのprocess ID:', os.getpid())\n",
    "    start = time.time()\n",
    "    #subprocessの生成  \n",
    "    \n",
    "    interval = int(len(X)/os.cpu_count())\n",
    "    p_list = []\n",
    "    for i in range(os.cpu_count()):\n",
    "        x = X[i*interval:(i+1)*interval]\n",
    "        p_list.append(Process(target=cal, args=(x,)))\n",
    "    for p_i in p_list :\n",
    "        p_i.start()\n",
    "    end = time.time()\n",
    "    print(end - start)"
   ]
  },
  {
   "cell_type": "code",
   "execution_count": 46,
   "metadata": {
    "scrolled": false
   },
   "outputs": [
    {
     "name": "stdout",
     "output_type": "stream",
     "text": [
      "4\n",
      "76.2939453125Mb\n",
      "49999995000000\n",
      "elapsed time: 1.3334672451019287 \n",
      "この実行ファイルのprocess ID: 7061\n",
      "49999995000000\n",
      "elapsed time: 0.7098281383514404 \n"
     ]
    }
   ],
   "source": [
    "from multiprocessing import Process\n",
    "import numpy as np\n",
    "def info(title):\n",
    "    #print(title)\n",
    "    #print('module name:', __name__)\n",
    "    print('parent process:', os.getppid())\n",
    "    print('process id:', os.getpid())\n",
    "\n",
    "def f(name):\n",
    "    info('function f')\n",
    "    print('hello', name)\n",
    "    return name\n",
    "\n",
    "def cal(stnd):\n",
    "    result = 0\n",
    "    for i in range(stnd[0], stnd[1]):\n",
    "        result += i\n",
    "    return result\n",
    "\n",
    "if __name__ == '__main__':\n",
    "    print(mp.cpu_count())\n",
    "    N=10000000\n",
    "    X = np.arange(N)\n",
    "    print(\"{}Mb\".format(X.nbytes/1024/1024))\n",
    "    interval = int(N/2)\n",
    "    \n",
    "    start = time.time()\n",
    "    print(cal([0, N]))\n",
    "    end = time.time()\n",
    "    print(\"elapsed time: {} \".format(end - start))\n",
    "    \n",
    "    print('この実行ファイルのprocess ID:', os.getpid())\n",
    "    with Pool(2) as p: #デフォルトでos.cpu_count()と同じ数のプロセス\n",
    "        start = time.time()\n",
    "        output = p.map(cal,  [ [i*interval, (i+1)*interval] for i in range(2)])\n",
    "        print(sum(output))\n",
    "        end = time.time()\n",
    "        print(\"elapsed time: {} \".format(end - start))\n",
    "    #print(output)"
   ]
  },
  {
   "cell_type": "code",
   "execution_count": null,
   "metadata": {},
   "outputs": [],
   "source": []
  }
 ],
 "metadata": {
  "kernelspec": {
   "display_name": "Python 3",
   "language": "python",
   "name": "python3"
  },
  "language_info": {
   "codemirror_mode": {
    "name": "ipython",
    "version": 3
   },
   "file_extension": ".py",
   "mimetype": "text/x-python",
   "name": "python",
   "nbconvert_exporter": "python",
   "pygments_lexer": "ipython3",
   "version": "3.7.4"
  }
 },
 "nbformat": 4,
 "nbformat_minor": 2
}
